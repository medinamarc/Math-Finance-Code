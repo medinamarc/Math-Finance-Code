{
 "cells": [
  {
   "cell_type": "markdown",
   "id": "04db55ac",
   "metadata": {},
   "source": [
    "## Functions to solve finance problems"
   ]
  },
  {
   "cell_type": "code",
   "execution_count": 3,
   "id": "5de7c50b",
   "metadata": {},
   "outputs": [],
   "source": [
    "def profit_a(n,ratio_a,ratio_b):\n",
    "    '''function to calculate risk free profit given two odds'''\n",
    "    x = (n * (1 + ratio_b)) / (2 + ratio_a + ratio_b)\n",
    "    p = n * (ratio_a*ratio_b-1)/(2+ratio_a+ratio_b)\n",
    "    return x,n-x,p"
   ]
  },
  {
   "cell_type": "code",
   "execution_count": 4,
   "id": "85b1a7a8",
   "metadata": {},
   "outputs": [
    {
     "data": {
      "text/plain": [
       "(55.94405594405595, 44.05594405594405, 17.482517482517483)"
      ]
     },
     "execution_count": 4,
     "metadata": {},
     "output_type": "execute_result"
    }
   ],
   "source": [
    "profit_a(100,11/10,5/3)"
   ]
  },
  {
   "cell_type": "code",
   "execution_count": 5,
   "id": "eea255a3",
   "metadata": {},
   "outputs": [],
   "source": [
    "import numpy as np\n",
    "def bet3(ratio_1,ratio_2,ratio_3):\n",
    "    '''function to caluclate risk free profit with three possibilities involved'''\n",
    "    p1 = np.array([-1,ratio_2,ratio_3])\n",
    "    p2 = np.array([ratio_1,-1,ratio_3])\n",
    "    p3 = np.array([ratio_1,ratio_2,-1])\n",
    "    A = np.matrix([p1-p2,p1-p3,[1,1,1]])\n",
    "    array = np.array([0,0,1])\n",
    "    w = np.linalg.solve(A,array)\n",
    "    p = np.dot(p1,w)\n",
    "    return w,p"
   ]
  },
  {
   "cell_type": "code",
   "execution_count": 6,
   "id": "354b8670",
   "metadata": {},
   "outputs": [
    {
     "data": {
      "text/plain": [
       "(array([0.39130435, 0.26086957, 0.34782609]), 0.5652173913043479)"
      ]
     },
     "execution_count": 6,
     "metadata": {},
     "output_type": "execute_result"
    }
   ],
   "source": [
    "bet3(1,2,5/4)"
   ]
  },
  {
   "cell_type": "code",
   "execution_count": 7,
   "id": "49e666bf",
   "metadata": {},
   "outputs": [],
   "source": [
    "\n",
    "def interest_prob(amnt_after =2, amnt_before = 1,years = 7,goal=3):\n",
    "'''\n",
    "Suppose money in your bank doubles (amnt_after = 2, since amnt_before = 1 and doubles) in 7 years via \n",
    "continous compounded interest. How long does it take to triple (goal = 3)?\n",
    "r - interest rate \n",
    "t - time to triple\n",
    "'''\n",
    "    r = (amnt_before / years) * np.log(amnt_after)\n",
    "    t = years * (np.log(goal)/np.log(amnt_after))\n",
    "    return t\n"
   ]
  },
  {
   "cell_type": "code",
   "execution_count": 8,
   "id": "f812c389",
   "metadata": {},
   "outputs": [
    {
     "data": {
      "text/plain": [
       "11.094737505048094"
      ]
     },
     "execution_count": 8,
     "metadata": {},
     "output_type": "execute_result"
    }
   ],
   "source": [
    "interest_prob()"
   ]
  },
  {
   "cell_type": "code",
   "execution_count": 30,
   "id": "6a47f96a",
   "metadata": {},
   "outputs": [],
   "source": [
    "def put_call(s = 100,i = .06, call_strike = 110,put_strike=110):\n",
    "    '''\n",
    "    s - current stock price\n",
    "    i - annual interest rate\n",
    "    call_strike - call strike price\n",
    "    put_strike - put strike price\n",
    "\n",
    "    '''    \n",
    "# What is the lower bound for Call(110) with expiration date 1 yr from now?     \n",
    "    call_lower = s - call_strike*np.exp(-i)\n",
    "# Suppose Call(110) cost $ 3 with expiration date 1 year from now, Find Put(110)  \n",
    "    put_prem = 3 + put_strike*np.exp(-i)-s\n",
    "# Suppose Call(90)-Put(90) = $ 15 with expiration date 0.5 years from now, how much can you make?\n",
    "    profit = s - 90*np.exp(-i) - 15\n",
    "    \n",
    "    print('lower bound for call: ' + str(call_lower))\n",
    "    print('put price given call price: ' + str(put_prem))\n",
    "    print('Profit with arbitrage: ' + str(profit))"
   ]
  },
  {
   "cell_type": "code",
   "execution_count": 32,
   "id": "997b2ea1",
   "metadata": {},
   "outputs": [
    {
     "name": "stdout",
     "output_type": "stream",
     "text": [
      "lower bound for call: -3.594098694267359\n",
      "put price given call price: 6.594098694267359\n",
      "Profit with arbitrage: 0.2411919774176141\n"
     ]
    }
   ],
   "source": [
    "put_call()"
   ]
  },
  {
   "cell_type": "code",
   "execution_count": null,
   "id": "b4ee3468",
   "metadata": {},
   "outputs": [],
   "source": []
  }
 ],
 "metadata": {
  "kernelspec": {
   "display_name": "Python 3 (ipykernel)",
   "language": "python",
   "name": "python3"
  },
  "language_info": {
   "codemirror_mode": {
    "name": "ipython",
    "version": 3
   },
   "file_extension": ".py",
   "mimetype": "text/x-python",
   "name": "python",
   "nbconvert_exporter": "python",
   "pygments_lexer": "ipython3",
   "version": "3.9.12"
  }
 },
 "nbformat": 4,
 "nbformat_minor": 5
}
